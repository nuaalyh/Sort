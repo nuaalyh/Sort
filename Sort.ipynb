{
 "cells": [
  {
   "cell_type": "markdown",
   "metadata": {},
   "source": [
    "括号中为平均时间复杂度"
   ]
  },
  {
   "cell_type": "markdown",
   "metadata": {},
   "source": [
    "### 1. 冒泡排序($O(n^2)$)\n",
    "第一个数和剩下的依次比较，大的下沉（升序），第二个数和剩下的依次比较，。。。，依次类推"
   ]
  },
  {
   "cell_type": "code",
   "execution_count": 1,
   "metadata": {},
   "outputs": [],
   "source": [
    "def bubble_sort(a):\n",
    "    for i in range(len(a) - 1):  ##最后一个数不用比较\n",
    "        for j in range(len(a) - i - 1):\n",
    "            if a[j] > a[j+1]:\n",
    "                a[j], a[j+1] = a[j+1], a[j]\n",
    "                print(a)\n",
    "    return a"
   ]
  },
  {
   "cell_type": "code",
   "execution_count": 2,
   "metadata": {},
   "outputs": [
    {
     "name": "stdout",
     "output_type": "stream",
     "text": [
      "[3, 8, 2, 7, 5, 1, 6]\n",
      "[3, 2, 8, 7, 5, 1, 6]\n",
      "[3, 2, 7, 8, 5, 1, 6]\n",
      "[3, 2, 7, 5, 8, 1, 6]\n",
      "[3, 2, 7, 5, 1, 8, 6]\n",
      "[3, 2, 7, 5, 1, 6, 8]\n",
      "[2, 3, 7, 5, 1, 6, 8]\n",
      "[2, 3, 5, 7, 1, 6, 8]\n",
      "[2, 3, 5, 1, 7, 6, 8]\n",
      "[2, 3, 5, 1, 6, 7, 8]\n",
      "[2, 3, 1, 5, 6, 7, 8]\n",
      "[2, 1, 3, 5, 6, 7, 8]\n",
      "[1, 2, 3, 5, 6, 7, 8]\n",
      "[1, 2, 3, 5, 6, 7, 8]\n"
     ]
    }
   ],
   "source": [
    "a=[8,3,2,7,5,1,6]\n",
    "print(bubble_sort(a))"
   ]
  },
  {
   "cell_type": "markdown",
   "metadata": {},
   "source": [
    "### 2. 直接选择排序($O(n^2)$)\n",
    "每次从待排序序列中选出最小值放到待排序序列之首"
   ]
  },
  {
   "cell_type": "code",
   "execution_count": 3,
   "metadata": {},
   "outputs": [],
   "source": [
    "def selection_sort(a):    \n",
    "    for i in range(len(a)-1):\n",
    "        j = a.index(min(a[i:]))\n",
    "        if j != i:\n",
    "            a[i], a[j] = a[j], a[i]\n",
    "            print(a)\n",
    "    return a"
   ]
  },
  {
   "cell_type": "code",
   "execution_count": 4,
   "metadata": {},
   "outputs": [
    {
     "name": "stdout",
     "output_type": "stream",
     "text": [
      "[1, 3, 2, 7, 5, 8, 6]\n",
      "[1, 2, 3, 7, 5, 8, 6]\n",
      "[1, 2, 3, 5, 7, 8, 6]\n",
      "[1, 2, 3, 5, 6, 8, 7]\n",
      "[1, 2, 3, 5, 6, 7, 8]\n",
      "[1, 2, 3, 5, 6, 7, 8]\n"
     ]
    }
   ],
   "source": [
    "a=[8,3,2,7,5,1,6]\n",
    "print(selection_sort(a))"
   ]
  },
  {
   "cell_type": "markdown",
   "metadata": {},
   "source": [
    "### 3. 直接插入排序($O(n^2)$)\n",
    "列表被分为有序区和无序区两个部分。最初有序区只有一个元素。 每次从无序区选择一个元素，插入到有序区的位置，直到无序区变空。"
   ]
  },
  {
   "cell_type": "code",
   "execution_count": 5,
   "metadata": {},
   "outputs": [],
   "source": [
    "def insert_sort(a):\n",
    "    for i in range(1,len(a)):\n",
    "        insert_num = a[i]\n",
    "        j = i - 1\n",
    "        while j >= 0 and insert_num < a[j]:\n",
    "            a[j+1] = a[j]\n",
    "            j -= 1\n",
    "        a[j+1] = insert_num\n",
    "        print(a)\n",
    "    return a\n",
    "        "
   ]
  },
  {
   "cell_type": "code",
   "execution_count": 6,
   "metadata": {
    "scrolled": true
   },
   "outputs": [
    {
     "name": "stdout",
     "output_type": "stream",
     "text": [
      "[3, 8, 2, 7, 5, 1, 6]\n",
      "[2, 3, 8, 7, 5, 1, 6]\n",
      "[2, 3, 7, 8, 5, 1, 6]\n",
      "[2, 3, 5, 7, 8, 1, 6]\n",
      "[1, 2, 3, 5, 7, 8, 6]\n",
      "[1, 2, 3, 5, 6, 7, 8]\n"
     ]
    },
    {
     "data": {
      "text/plain": [
       "[1, 2, 3, 5, 6, 7, 8]"
      ]
     },
     "execution_count": 6,
     "metadata": {},
     "output_type": "execute_result"
    }
   ],
   "source": [
    "a = [8,3,2,7,5,1,6]\n",
    "insert_sort(a)"
   ]
  },
  {
   "cell_type": "markdown",
   "metadata": {},
   "source": [
    "### 4.快速排序($O(nlogn)$)\n",
    "先从待排序的数组中找出一个数作为基准数（取第一个数即可），然后将原来的数组划分成两部分：小于基准数的左子数组和大于等于基准数的右子数组。然后对这两个子数组再递归重复上述过程，直到两个子数组的所有数都分别有序。最后返回“左子数组” + “基准数” + “右子数组”，即是最终排序好的数组。"
   ]
  },
  {
   "cell_type": "code",
   "execution_count": 7,
   "metadata": {},
   "outputs": [],
   "source": [
    "def quick_sort(a):   \n",
    "    if len(a)<=1:\n",
    "        return a\n",
    "    else:\n",
    "        list_left=[];list_right=[];list_p=[]\n",
    "        for i in a:\n",
    "            if i > a[-1]:\n",
    "                list_right.append(i)\n",
    "            elif i<a[-1]:\n",
    "                list_left.append(i)\n",
    "            else:\n",
    "                list_p.append(i)\n",
    "        list_left = quick_sort(list_left)\n",
    "        list_right = quick_sort(list_right)\n",
    "        list=list_left+list_p+list_right\n",
    "        print(list)\n",
    "        return list\n",
    "   "
   ]
  },
  {
   "cell_type": "code",
   "execution_count": 8,
   "metadata": {},
   "outputs": [
    {
     "name": "stdout",
     "output_type": "stream",
     "text": [
      "[2, 3]\n",
      "[2, 3, 5]\n",
      "[1, 2, 3, 5]\n",
      "[7, 8]\n",
      "[1, 2, 3, 5, 6, 7, 8]\n",
      "[1, 2, 3, 5, 6, 7, 8]\n"
     ]
    }
   ],
   "source": [
    "a=[8,3,2,7,5,1,6]\n",
    "print(quick_sort(a))\n"
   ]
  }
 ],
 "metadata": {
  "kernelspec": {
   "display_name": "Python 3",
   "language": "python",
   "name": "python3"
  },
  "language_info": {
   "codemirror_mode": {
    "name": "ipython",
    "version": 3
   },
   "file_extension": ".py",
   "mimetype": "text/x-python",
   "name": "python",
   "nbconvert_exporter": "python",
   "pygments_lexer": "ipython3",
   "version": "3.6.5"
  }
 },
 "nbformat": 4,
 "nbformat_minor": 2
}
